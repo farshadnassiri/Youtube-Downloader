{
 "cells": [
  {
   "cell_type": "code",
   "execution_count": 9,
   "id": "9eed4f10",
   "metadata": {},
   "outputs": [
    {
     "name": "stdout",
     "output_type": "stream",
     "text": [
      "پایتون پروژه محور |‌ Handling Exceptions, the Right Way\n"
     ]
    }
   ],
   "source": [
    "import pytubefix\n",
    "try:\n",
    "    yt = pytubefix.YouTube(\"https://youtu.be/1NsVhez9-HY?si=KGDhtkclhPURJZhu\")\n",
    "    print(yt.title)\n",
    "except Exception as e:\n",
    "    print(\"خطا در اتصال:\", e)\n"
   ]
  },
  {
   "cell_type": "code",
   "execution_count": 14,
   "id": "02a57a9f",
   "metadata": {},
   "outputs": [
    {
     "data": {
      "text/plain": [
       "'https://i.ytimg.com/vi/1NsVhez9-HY/sddefault.jpg'"
      ]
     },
     "execution_count": 14,
     "metadata": {},
     "output_type": "execute_result"
    }
   ],
   "source": [
    "from pytubefix import YouTube\n",
    "\n",
    "yt = YouTube('https://youtu.be/1NsVhez9-HY?si=OQO97najT92-u6tQ')\n",
    "yt.thumbnail_url"
   ]
  },
  {
   "cell_type": "code",
   "execution_count": null,
   "id": "c500eae3",
   "metadata": {},
   "outputs": [
    {
     "data": {
      "text/plain": [
       "\"/home/farshad/Pytopia/Project-Based-Python/Farshad's exercises on Project-Based-Python/Youtube Downloader/src/پایتون پروژه محور |\\u200c Handling Exceptions, the Right Way.m4a\""
      ]
     },
     "execution_count": 32,
     "metadata": {},
     "output_type": "execute_result"
    }
   ],
   "source": [
    "yt = YouTube('https://www.youtube.com/watch?v=9bZkp7q19f0')\n",
    "audio=yt.streams.filter(only_audio=True).first()\n",
    "audio.download()"
   ]
  }
 ],
 "metadata": {
  "kernelspec": {
   "display_name": "base",
   "language": "python",
   "name": "python3"
  },
  "language_info": {
   "codemirror_mode": {
    "name": "ipython",
    "version": 3
   },
   "file_extension": ".py",
   "mimetype": "text/x-python",
   "name": "python",
   "nbconvert_exporter": "python",
   "pygments_lexer": "ipython3",
   "version": "3.13.5"
  }
 },
 "nbformat": 4,
 "nbformat_minor": 5
}
